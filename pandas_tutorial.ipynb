{
 "cells": [
  {
   "cell_type": "markdown",
   "id": "4c236baa",
   "metadata": {},
   "source": [
    "## Pandas Library\n",
    "\n",
    "Useful for Data Processing and Analysis"
   ]
  },
  {
   "cell_type": "markdown",
   "id": "68b47b6d",
   "metadata": {},
   "source": [
    "#### Pandas Data Frame\n",
    "Pandas DataFrame is 2-dimensional tabular data structure with labeled axis(rows and columns)"
   ]
  },
  {
   "cell_type": "markdown",
   "id": "1a087f18",
   "metadata": {},
   "source": []
  }
 ],
 "metadata": {
  "kernelspec": {
   "display_name": "venv",
   "language": "python",
   "name": "python3"
  },
  "language_info": {
   "name": "python",
   "version": "3.13.1"
  }
 },
 "nbformat": 4,
 "nbformat_minor": 5
}
